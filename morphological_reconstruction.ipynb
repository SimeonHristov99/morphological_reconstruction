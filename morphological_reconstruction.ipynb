{
 "cells": [
  {
   "attachments": {},
   "cell_type": "markdown",
   "metadata": {},
   "source": [
    "# Imports"
   ]
  },
  {
   "cell_type": "code",
   "execution_count": 1,
   "metadata": {},
   "outputs": [
    {
     "name": "stderr",
     "output_type": "stream",
     "text": [
      "2022-12-30 15:07:09.776949: I tensorflow/core/platform/cpu_feature_guard.cc:193] This TensorFlow binary is optimized with oneAPI Deep Neural Network Library (oneDNN) to use the following CPU instructions in performance-critical operations:  AVX2 FMA\n",
      "To enable them in other operations, rebuild TensorFlow with the appropriate compiler flags.\n",
      "2022-12-30 15:07:10.307231: W tensorflow/compiler/xla/stream_executor/platform/default/dso_loader.cc:64] Could not load dynamic library 'libcudart.so.11.0'; dlerror: libcudart.so.11.0: cannot open shared object file: No such file or directory\n",
      "2022-12-30 15:07:10.307305: I tensorflow/compiler/xla/stream_executor/cuda/cudart_stub.cc:29] Ignore above cudart dlerror if you do not have a GPU set up on your machine.\n",
      "2022-12-30 15:07:12.079790: W tensorflow/compiler/xla/stream_executor/platform/default/dso_loader.cc:64] Could not load dynamic library 'libnvinfer.so.7'; dlerror: libnvinfer.so.7: cannot open shared object file: No such file or directory\n",
      "2022-12-30 15:07:12.079973: W tensorflow/compiler/xla/stream_executor/platform/default/dso_loader.cc:64] Could not load dynamic library 'libnvinfer_plugin.so.7'; dlerror: libnvinfer_plugin.so.7: cannot open shared object file: No such file or directory\n",
      "2022-12-30 15:07:12.079994: W tensorflow/compiler/tf2tensorrt/utils/py_utils.cc:38] TF-TRT Warning: Cannot dlopen some TensorRT libraries. If you would like to use Nvidia GPU with TensorRT, please make sure the missing libraries mentioned above are installed properly.\n",
      "/home/work/Dev/morphological_reconstruction/venv/lib/python3.10/site-packages/tqdm/auto.py:22: TqdmWarning: IProgress not found. Please update jupyter and ipywidgets. See https://ipywidgets.readthedocs.io/en/stable/user_install.html\n",
      "  from .autonotebook import tqdm as notebook_tqdm\n"
     ]
    }
   ],
   "source": [
    "import numpy as np\n",
    "import matplotlib.pyplot as plt\n",
    "\n",
    "import tensorflow as tf\n",
    "import tensorflow_datasets as tfds\n",
    "\n",
    "from skimage.morphology import binary_dilation, binary_erosion"
   ]
  },
  {
   "attachments": {},
   "cell_type": "markdown",
   "metadata": {},
   "source": [
    "# Load Data"
   ]
  },
  {
   "attachments": {},
   "cell_type": "markdown",
   "metadata": {},
   "source": [
    "## MNIST"
   ]
  },
  {
   "cell_type": "code",
   "execution_count": 2,
   "metadata": {},
   "outputs": [
    {
     "name": "stderr",
     "output_type": "stream",
     "text": [
      "2022-12-30 15:07:15.663958: E tensorflow/compiler/xla/stream_executor/cuda/cuda_driver.cc:267] failed call to cuInit: CUDA_ERROR_NO_DEVICE: no CUDA-capable device is detected\n",
      "2022-12-30 15:07:15.664018: I tensorflow/compiler/xla/stream_executor/cuda/cuda_diagnostics.cc:156] kernel driver does not appear to be running on this host (work-Aspire-A515-51G): /proc/driver/nvidia/version does not exist\n",
      "2022-12-30 15:07:15.665820: I tensorflow/core/platform/cpu_feature_guard.cc:193] This TensorFlow binary is optimized with oneAPI Deep Neural Network Library (oneDNN) to use the following CPU instructions in performance-critical operations:  AVX2 FMA\n",
      "To enable them in other operations, rebuild TensorFlow with the appropriate compiler flags.\n"
     ]
    },
    {
     "name": "stdout",
     "output_type": "stream",
     "text": [
      "df_mnist.shape=(60000, 2)\n",
      "Image shape: (28, 28, 1)\n"
     ]
    }
   ],
   "source": [
    "ds_mnist = tfds.load('mnist', split='train')\n",
    "df_mnist = tfds.as_dataframe(ds_mnist)\n",
    "print(f'{df_mnist.shape=}')\n",
    "print(f\"Image shape: {df_mnist['image'][0].shape}\")"
   ]
  },
  {
   "attachments": {},
   "cell_type": "markdown",
   "metadata": {},
   "source": [
    "## Fashion MNIST"
   ]
  },
  {
   "cell_type": "code",
   "execution_count": 3,
   "metadata": {},
   "outputs": [
    {
     "name": "stdout",
     "output_type": "stream",
     "text": [
      "df_fmnist.shape=(60000, 2)\n",
      "Image shape: (28, 28, 1)\n"
     ]
    }
   ],
   "source": [
    "ds_fmnist = tfds.load('fashion_mnist', split='train')\n",
    "df_fmnist = tfds.as_dataframe(ds_fmnist)\n",
    "print(f'{df_fmnist.shape=}')\n",
    "print(f\"Image shape: {df_fmnist['image'][0].shape}\")"
   ]
  },
  {
   "attachments": {},
   "cell_type": "markdown",
   "metadata": {},
   "source": [
    "## EMNIST"
   ]
  },
  {
   "cell_type": "code",
   "execution_count": 4,
   "metadata": {},
   "outputs": [
    {
     "name": "stdout",
     "output_type": "stream",
     "text": [
      "df_emnist.shape=(697932, 2)\n",
      "Image shape: (28, 28, 1)\n"
     ]
    }
   ],
   "source": [
    "# Takes about 15 mins\n",
    "ds_emnist = tfds.load('emnist', split='train')\n",
    "df_emnist = tfds.as_dataframe(ds_emnist)\n",
    "print(f'{df_emnist.shape=}')\n",
    "print(f\"Image shape: {df_emnist['image'][0].shape}\")"
   ]
  },
  {
   "attachments": {},
   "cell_type": "markdown",
   "metadata": {},
   "source": [
    "# Explore images"
   ]
  },
  {
   "cell_type": "code",
   "execution_count": 5,
   "metadata": {},
   "outputs": [
    {
     "data": {
      "image/png": "[encoded data removed]",
      "text/plain": [
       "<Figure size 640x480 with 3 Axes>"
      ]
     },
     "metadata": {},
     "output_type": "display_data"
    }
   ],
   "source": [
    "fig, axs = plt.subplots(ncols=3, nrows=1)\n",
    "\n",
    "mnist = df_mnist['image'][100].squeeze()\n",
    "mnist_title = df_mnist['label'][100]\n",
    "\n",
    "fmnist = df_fmnist['image'][100].squeeze()\n",
    "fmnist_title = df_fmnist['label'][100]\n",
    "\n",
    "# The images are inverted horizontally and rotated 90 anti-clockwise\n",
    "emnist = df_emnist['image'][100].squeeze()\n",
    "emnist_title = df_emnist['label'][100]\n",
    "\n",
    "axs[0].set_title(f'MNIST: {mnist_title}')\n",
    "axs[0].axis('off')\n",
    "axs[0].imshow(mnist, cmap='gray')\n",
    "\n",
    "axs[1].set_title(f'Fashion MNIST: {fmnist_title}')\n",
    "axs[1].axis('off')\n",
    "axs[1].imshow(fmnist, cmap='gray')\n",
    "\n",
    "axs[2].set_title(f'EMNIST: {emnist_title}')\n",
    "axs[2].axis('off')\n",
    "axs[2].imshow(emnist, cmap='gray')\n",
    "\n",
    "plt.show();"
   ]
  },
  {
   "attachments": {},
   "cell_type": "markdown",
   "metadata": {},
   "source": [
    "# Remove labels"
   ]
  },
  {
   "cell_type": "code",
   "execution_count": 6,
   "metadata": {},
   "outputs": [
    {
     "data": {
      "text/plain": [
       "dtype('O')"
      ]
     },
     "execution_count": 6,
     "metadata": {},
     "output_type": "execute_result"
    }
   ],
   "source": [
    "df_mnist['image'].dtype"
   ]
  },
  {
   "cell_type": "code",
   "execution_count": 7,
   "metadata": {},
   "outputs": [
    {
     "data": {
      "text/plain": [
       "(60000, 28, 28)"
      ]
     },
     "execution_count": 7,
     "metadata": {},
     "output_type": "execute_result"
    }
   ],
   "source": [
    "dfs = [df_mnist, df_fmnist, df_emnist]\n",
    "arrs = []\n",
    "\n",
    "for i in range(len(dfs)):\n",
    "    arrs.append(\n",
    "        np.array(\n",
    "            dfs[i]['image'].tolist(),\n",
    "            dtype='uint8'\n",
    "        ).squeeze()\n",
    "    )\n",
    "\n",
    "arrs[0].shape"
   ]
  },
  {
   "attachments": {},
   "cell_type": "markdown",
   "metadata": {},
   "source": [
    "# Binarize"
   ]
  },
  {
   "cell_type": "code",
   "execution_count": 8,
   "metadata": {},
   "outputs": [
    {
     "data": {
      "image/png": "[encoded data removed]",
      "text/plain": [
       "<Figure size 640x480 with 2 Axes>"
      ]
     },
     "metadata": {},
     "output_type": "display_data"
    }
   ],
   "source": [
    "fig, axs = plt.subplots(ncols=2, nrows=1)\n",
    "\n",
    "before = arrs[0][0]\n",
    "after = np.where(arrs[0] > 0, 1, 0)[0]\n",
    "\n",
    "axs[0].set_title('Before')\n",
    "axs[0].axis('off')\n",
    "axs[0].imshow(before, cmap='gray')\n",
    "\n",
    "axs[1].set_title('After')\n",
    "axs[1].axis('off')\n",
    "axs[1].imshow(after, cmap='gray')\n",
    "\n",
    "plt.show();"
   ]
  },
  {
   "cell_type": "code",
   "execution_count": 9,
   "metadata": {},
   "outputs": [],
   "source": [
    "for i in range(len(arrs)):\n",
    "    arrs[i] = np.where(arrs[i] > 0, 1, 0)\n",
    "\n",
    "# Pattern matching :) !\n",
    "arr_mnist, arr_fmnist, arr_emnist = arrs"
   ]
  },
  {
   "attachments": {},
   "cell_type": "markdown",
   "metadata": {},
   "source": [
    "# See results"
   ]
  },
  {
   "cell_type": "code",
   "execution_count": 10,
   "metadata": {},
   "outputs": [
    {
     "data": {
      "image/png": "[encoded data removed]",
      "text/plain": [
       "<Figure size 640x480 with 3 Axes>"
      ]
     },
     "metadata": {},
     "output_type": "display_data"
    }
   ],
   "source": [
    "mnist = arr_mnist[100]\n",
    "fmnist = arr_fmnist[100]\n",
    "emnist = arr_emnist[100]\n",
    "\n",
    "fig, axs = plt.subplots(ncols=3, nrows=1)\n",
    "\n",
    "axs[0].set_title('MNIST')\n",
    "axs[0].axis('off')\n",
    "axs[0].imshow(mnist, cmap='gray')\n",
    "\n",
    "axs[1].set_title('Fashion MNIST')\n",
    "axs[1].axis('off')\n",
    "axs[1].imshow(fmnist, cmap='gray')\n",
    "\n",
    "axs[2].set_title('EMNIST')\n",
    "axs[2].axis('off')\n",
    "axs[2].imshow(emnist, cmap='gray')\n",
    "\n",
    "plt.show();"
   ]
  },
  {
   "attachments": {},
   "cell_type": "markdown",
   "metadata": {},
   "source": [
    "# Sample from arrays"
   ]
  },
  {
   "cell_type": "code",
   "execution_count": 11,
   "metadata": {},
   "outputs": [],
   "source": [
    "def print_batch(batch, title='Batch'):\n",
    "    plt.figure(figsize=(15, 20))\n",
    "    plt.title(title)\n",
    "    plt.axis('off')\n",
    "    \n",
    "    if len(batch.shape) > 2:\n",
    "        batch = np.hstack(batch)\n",
    "    \n",
    "    plt.imshow(batch, cmap='gray')\n",
    "    \n",
    "\n",
    "\n",
    "def get_batch_pics(num=10, seed=None):\n",
    "    result = np.zeros((num, *arr_mnist.shape[1:]))\n",
    "\n",
    "    np.random.seed(seed)\n",
    "    arr_idxs = np.random.choice([0, 1, 2], size=num)\n",
    "    pic_idxs = np.random.choice(range(df_mnist.shape[0]), size=num)\n",
    "\n",
    "    for (i, (arr_idx, pic_idx)) in enumerate(zip(arr_idxs, pic_idxs)):\n",
    "        result[i] = arrs[arr_idx][pic_idx]\n",
    "\n",
    "    return result"
   ]
  },
  {
   "cell_type": "code",
   "execution_count": 12,
   "metadata": {},
   "outputs": [
    {
     "data": {
      "image/png": "[encoded data removed]",
      "text/plain": [
       "<Figure size 1500x2000 with 1 Axes>"
      ]
     },
     "metadata": {},
     "output_type": "display_data"
    }
   ],
   "source": [
    "batch = get_batch_pics(seed=42)\n",
    "print_batch(batch)"
   ]
  },
  {
   "attachments": {},
   "cell_type": "markdown",
   "metadata": {},
   "source": [
    "# Dilation"
   ]
  },
  {
   "cell_type": "code",
   "execution_count": 13,
   "metadata": {},
   "outputs": [],
   "source": [
    "def dilate_binary(im, footprint):\n",
    "    # Sadly, Python does not allow for a readable use of higher-order functions\n",
    "    # list(map(lambda tup: (tup[0] // 28, tup[0] % 28), filter(lambda tup: tup[1] == 1, enumerate(batch[1].flatten()))))\n",
    "\n",
    "    if footprint.shape[0] != footprint.shape[1] or footprint[footprint.shape[0] // 2, footprint.shape[1] // 2] != 1:\n",
    "        raise ValueError('Footprint must be a square with 1 in its center!')\n",
    "\n",
    "    im = im.astype(np.uint8)\n",
    "\n",
    "    result = np.zeros_like(im, dtype=np.uint8)\n",
    "\n",
    "    cols = im.shape[1]\n",
    "\n",
    "    one_idx = [(i // cols, i % cols) for (i, val) in enumerate(im.flatten()) if val == 1]\n",
    "\n",
    "    for (i, j) in one_idx:\n",
    "        ii = i - 1\n",
    "        jj = j - 1\n",
    "\n",
    "        i_norm = (ii if ii > 0 else 0)\n",
    "        j_norm = (jj if jj > 0 else 0)\n",
    "        \n",
    "        part = im[i_norm:ii+3, j_norm:jj+3]\n",
    "\n",
    "        offset_i = i_norm - ii\n",
    "        offset_j = j_norm - jj\n",
    "        mask = footprint[offset_i : offset_i + part.shape[0], offset_j : part.shape[1]]\n",
    "\n",
    "        result[i_norm:ii+3, j_norm:jj+3] = part | mask | result[i_norm:ii+3, j_norm:jj+3]\n",
    "\n",
    "    return result"
   ]
  },
  {
   "attachments": {},
   "cell_type": "markdown",
   "metadata": {},
   "source": [
    "## Compare with `scikit-image`"
   ]
  },
  {
   "cell_type": "code",
   "execution_count": 14,
   "metadata": {},
   "outputs": [
    {
     "name": "stdout",
     "output_type": "stream",
     "text": [
      "True\n",
      "True\n",
      "True\n",
      "True\n",
      "True\n",
      "True\n",
      "True\n",
      "True\n",
      "True\n",
      "True\n",
      "True\n"
     ]
    }
   ],
   "source": [
    "footprint = np.array([[1, 1, 1],\n",
    "                      [1, 1, 1],\n",
    "                      [1, 1, 1]], dtype = np.uint8)\n",
    "\n",
    "# Single image (square matrix)\n",
    "for im in batch:\n",
    "    im_scikit = binary_dilation(im, footprint)\n",
    "    im_simo = dilate_binary(im, footprint)\n",
    "    print(np.all(im_scikit == im_simo))\n",
    "\n",
    "# Multiple images (non-square matrix)\n",
    "tmp_batch = np.hstack(batch)\n",
    "im_scikit = binary_dilation(tmp_batch, footprint)\n",
    "im_simo = dilate_binary(tmp_batch, footprint)\n",
    "print(np.all(im_scikit == im_simo))\n",
    "\n",
    "# Save to files to inspect\n",
    "concatted = np.concatenate([tmp_batch, im_scikit, im_simo], axis=1).astype(np.uint8)\n",
    "np.savetxt(\"array.txt\", concatted, fmt='%d', delimiter='')"
   ]
  },
  {
   "attachments": {},
   "cell_type": "markdown",
   "metadata": {},
   "source": [
    "# Erosion"
   ]
  },
  {
   "cell_type": "code",
   "execution_count": 15,
   "metadata": {},
   "outputs": [],
   "source": [
    "def erode_binary(im, footprint):\n",
    "    if footprint.shape[0] != footprint.shape[1] or footprint[footprint.shape[0] // 2, footprint.shape[1] // 2] != 1:\n",
    "        raise ValueError('Footprint must be a square with 1 in its center!')\n",
    "\n",
    "    im = im.astype(np.uint8)\n",
    "\n",
    "    result = np.zeros_like(im, dtype=np.uint8)\n",
    "\n",
    "    cols = im.shape[1]\n",
    "\n",
    "    one_idx = [(i // cols, i % cols) for (i, val) in enumerate(im.flatten()) if val == 1]\n",
    "\n",
    "    for (i, j) in one_idx:\n",
    "        ii = i - 1\n",
    "        jj = j - 1\n",
    "\n",
    "        i_norm = (ii if ii > 0 else 0)\n",
    "        j_norm = (jj if jj > 0 else 0)\n",
    "        \n",
    "        part = im[i_norm:ii+3, j_norm:jj+3]\n",
    "\n",
    "        offset_i = i_norm - ii\n",
    "        offset_j = j_norm - jj\n",
    "        mask = footprint[offset_i : offset_i + part.shape[0], offset_j : part.shape[1]]\n",
    "\n",
    "        if np.all(part == mask):\n",
    "            result[i, j] = 1\n",
    "\n",
    "    return result"
   ]
  },
  {
   "attachments": {},
   "cell_type": "markdown",
   "metadata": {},
   "source": [
    "## Compare with `scikit-image`"
   ]
  },
  {
   "cell_type": "code",
   "execution_count": 16,
   "metadata": {},
   "outputs": [
    {
     "name": "stdout",
     "output_type": "stream",
     "text": [
      "True\n",
      "True\n",
      "True\n",
      "True\n",
      "True\n",
      "True\n",
      "True\n",
      "True\n",
      "True\n",
      "True\n",
      "True\n"
     ]
    }
   ],
   "source": [
    "footprint = np.array([[1, 1, 1],\n",
    "                      [1, 1, 1],\n",
    "                      [1, 1, 1]], dtype = np.uint8)\n",
    "\n",
    "# Single image (square matrix)\n",
    "for im in batch:\n",
    "    im_scikit = binary_erosion(im, footprint)\n",
    "    im_simo = erode_binary(im, footprint)\n",
    "    print(np.all(im_scikit == im_simo))\n",
    "\n",
    "# Multiple images (non-square matrix)\n",
    "tmp_batch = np.hstack(batch)\n",
    "im_scikit = binary_erosion(tmp_batch, footprint)\n",
    "im_simo = erode_binary(tmp_batch, footprint)\n",
    "print(np.all(im_scikit == im_simo))\n",
    "\n",
    "# Save to files to inspect\n",
    "concatted = np.concatenate([tmp_batch, im_scikit, im_simo], axis=1).astype(np.uint8)\n",
    "np.savetxt(\"array.txt\", concatted, fmt='%d', delimiter='')"
   ]
  },
  {
   "attachments": {},
   "cell_type": "markdown",
   "metadata": {},
   "source": [
    "# Geodesic Dilation"
   ]
  },
  {
   "cell_type": "code",
   "execution_count": 17,
   "metadata": {},
   "outputs": [],
   "source": [
    "def geodesic_dilation(mask, marker):\n",
    "    footprint = np.array([[1, 1, 1],\n",
    "                          [1, 1, 1],\n",
    "                          [1, 1, 1]], dtype = np.uint8)\n",
    "\n",
    "    result = dilate_binary(marker, footprint).astype(bool) & mask\n",
    "    return result"
   ]
  },
  {
   "attachments": {},
   "cell_type": "markdown",
   "metadata": {},
   "source": [
    "# Geodesic Erosion"
   ]
  },
  {
   "cell_type": "code",
   "execution_count": 18,
   "metadata": {},
   "outputs": [],
   "source": [
    "def geodesic_erosion(mask, marker):\n",
    "    footprint = np.array([[1, 1, 1],\n",
    "                          [1, 1, 1],\n",
    "                          [1, 1, 1]], dtype = np.uint8)\n",
    "\n",
    "    result = erode_binary(marker, footprint) | mask\n",
    "    return result"
   ]
  },
  {
   "attachments": {},
   "cell_type": "markdown",
   "metadata": {},
   "source": [
    "# Morphological Reconstruction"
   ]
  },
  {
   "cell_type": "code",
   "execution_count": 19,
   "metadata": {},
   "outputs": [],
   "source": [
    "mask = np.array([\n",
    "    [0,0,0,0,0,0,0,0,0,0],\n",
    "    [0,0,0,0,0,0,0,0,0,0],\n",
    "    [0,0,1,0,0,0,0,0,0,0],\n",
    "    [0,0,1,1,0,0,0,0,0,0],\n",
    "    [0,0,0,1,0,0,0,0,0,0],\n",
    "    [0,0,0,1,1,1,0,0,0,0],\n",
    "    [0,0,0,1,0,1,0,0,0,0],\n",
    "    [0,0,0,1,1,1,0,0,0,0],\n",
    "    [0,0,0,0,0,0,0,0,0,0],\n",
    "])\n",
    "marker = np.array([\n",
    "    [0,0,0,0,0,0,0,0,0,0],\n",
    "    [0,0,0,0,0,0,0,0,0,0],\n",
    "    [0,0,1,0,0,0,0,0,0,0],\n",
    "    [0,0,0,0,0,0,0,0,0,0],\n",
    "    [0,0,0,0,0,0,0,0,0,0],\n",
    "    [0,0,0,0,0,0,0,0,0,0],\n",
    "    [0,0,0,0,0,0,0,0,0,0],\n",
    "    [0,0,0,0,0,0,0,0,0,0],\n",
    "    [0,0,0,0,0,0,0,0,0,0],\n",
    "])"
   ]
  },
  {
   "cell_type": "code",
   "execution_count": 20,
   "metadata": {},
   "outputs": [],
   "source": [
    "def morphological_reconstruction_dilation(mask, marker):\n",
    "    step0 = marker.copy()\n",
    "\n",
    "    while True:\n",
    "        step1 = geodesic_dilation(mask, step0)\n",
    "        step2 = geodesic_dilation(mask, step1)\n",
    "\n",
    "        if np.all(step1 == step2):\n",
    "            break\n",
    "\n",
    "        step0 = step2\n",
    "\n",
    "    return step1"
   ]
  },
  {
   "cell_type": "code",
   "execution_count": 21,
   "metadata": {},
   "outputs": [
    {
     "data": {
      "text/plain": [
       "array([[0, 0, 0, 0, 0, 0, 0, 0, 0, 0],\n",
       "       [0, 0, 0, 0, 0, 0, 0, 0, 0, 0],\n",
       "       [0, 0, 1, 0, 0, 0, 0, 0, 0, 0],\n",
       "       [0, 0, 1, 1, 0, 0, 0, 0, 0, 0],\n",
       "       [0, 0, 0, 1, 0, 0, 0, 0, 0, 0],\n",
       "       [0, 0, 0, 1, 1, 1, 0, 0, 0, 0],\n",
       "       [0, 0, 0, 1, 0, 1, 0, 0, 0, 0],\n",
       "       [0, 0, 0, 1, 1, 1, 0, 0, 0, 0],\n",
       "       [0, 0, 0, 0, 0, 0, 0, 0, 0, 0]])"
      ]
     },
     "execution_count": 21,
     "metadata": {},
     "output_type": "execute_result"
    }
   ],
   "source": [
    "morphological_reconstruction_dilation(mask, marker)"
   ]
  },
  {
   "attachments": {},
   "cell_type": "markdown",
   "metadata": {},
   "source": [
    "# Application 1: Remove objects specified by user"
   ]
  },
  {
   "cell_type": "code",
   "execution_count": 22,
   "metadata": {},
   "outputs": [
    {
     "data": {
      "image/png": "[encoded data removed]",
      "text/plain": [
       "<Figure size 1500x2000 with 1 Axes>"
      ]
     },
     "metadata": {},
     "output_type": "display_data"
    }
   ],
   "source": [
    "mask = np.hstack(batch).astype(np.uint8)\n",
    "print_batch(mask, 'Before')"
   ]
  },
  {
   "cell_type": "code",
   "execution_count": 23,
   "metadata": {},
   "outputs": [],
   "source": [
    "marker = np.zeros_like(mask)\n",
    "marker[23, 37] = 1\n",
    "marker[3, 242] = 1"
   ]
  },
  {
   "cell_type": "code",
   "execution_count": 24,
   "metadata": {},
   "outputs": [
    {
     "data": {
      "image/png": "[encoded data removed]",
      "text/plain": [
       "<Figure size 1500x2000 with 1 Axes>"
      ]
     },
     "metadata": {},
     "output_type": "display_data"
    }
   ],
   "source": [
    "res = morphological_reconstruction_dilation(mask, marker)\n",
    "print_batch(res, 'After')"
   ]
  },
  {
   "attachments": {},
   "cell_type": "markdown",
   "metadata": {},
   "source": [
    "# Application 2: Remove objects connected to border\n",
    "\n",
    "- mask = input image\n",
    "- marker = intersection between the input image and its border\n",
    "\n",
    "The marker image contains therefore seeds for each particle connected to the image border and the reconstruction outputs the image of all these particles."
   ]
  },
  {
   "cell_type": "code",
   "execution_count": 25,
   "metadata": {},
   "outputs": [
    {
     "data": {
      "image/png": "[encoded data removed]",
      "text/plain": [
       "<Figure size 1500x2000 with 1 Axes>"
      ]
     },
     "metadata": {},
     "output_type": "display_data"
    }
   ],
   "source": [
    "print_batch(mask, 'Mask')"
   ]
  },
  {
   "cell_type": "code",
   "execution_count": 26,
   "metadata": {},
   "outputs": [],
   "source": [
    "marker = np.ones_like(mask)\n",
    "marker[1:marker.shape[0] - 1, 1:marker.shape[1] - 1] = 0\n",
    "marker = marker & mask"
   ]
  },
  {
   "cell_type": "code",
   "execution_count": 27,
   "metadata": {},
   "outputs": [
    {
     "data": {
      "image/png": "[encoded data removed]",
      "text/plain": [
       "<Figure size 1500x2000 with 1 Axes>"
      ]
     },
     "metadata": {},
     "output_type": "display_data"
    }
   ],
   "source": [
    "res = morphological_reconstruction_dilation(mask, marker)\n",
    "print_batch(res, 'Objects on border')"
   ]
  },
  {
   "cell_type": "code",
   "execution_count": 28,
   "metadata": {},
   "outputs": [
    {
     "data": {
      "image/png": "[encoded data removed]",
      "text/plain": [
       "<Figure size 1500x2000 with 1 Axes>"
      ]
     },
     "metadata": {},
     "output_type": "display_data"
    }
   ],
   "source": [
    "res = mask - res\n",
    "print_batch(res, 'Result')"
   ]
  }
 ],
 "metadata": {
  "kernelspec": {
   "display_name": "venv",
   "language": "python",
   "name": "python3"
  },
  "language_info": {
   "codemirror_mode": {
    "name": "ipython",
    "version": 3
   },
   "file_extension": ".py",
   "mimetype": "text/x-python",
   "name": "python",
   "nbconvert_exporter": "python",
   "pygments_lexer": "ipython3",
   "version": "3.10.6"
  },
  "orig_nbformat": 4,
  "vscode": {
   "interpreter": {
    "hash": "896620c3d6ff88b1e7d2d3d3f1d9d5abf607d6b361e1adf12985f579fd836be7"
   }
  }
 },
 "nbformat": 4,
 "nbformat_minor": 2
}
