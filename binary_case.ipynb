{
 "cells": [
  {
   "attachments": {},
   "cell_type": "markdown",
   "metadata": {},
   "source": [
    "# Imports"
   ]
  },
  {
   "cell_type": "code",
   "execution_count": 33,
   "metadata": {},
   "outputs": [],
   "source": [
    "import numpy as np\n",
    "import matplotlib.pyplot as plt\n",
    "\n",
    "import tensorflow as tf\n",
    "import tensorflow_datasets as tfds\n",
    "\n",
    "from skimage.morphology import binary_dilation, binary_erosion"
   ]
  },
  {
   "attachments": {},
   "cell_type": "markdown",
   "metadata": {},
   "source": [
    "# Load Data"
   ]
  },
  {
   "attachments": {},
   "cell_type": "markdown",
   "metadata": {},
   "source": [
    "## MNIST"
   ]
  },
  {
   "cell_type": "code",
   "execution_count": 34,
   "metadata": {},
   "outputs": [
    {
     "name": "stdout",
     "output_type": "stream",
     "text": [
      "df_mnist.shape=(60000, 2)\n",
      "Image shape: (28, 28, 1)\n"
     ]
    }
   ],
   "source": [
    "ds_mnist = tfds.load('mnist', split='train')\n",
    "df_mnist = tfds.as_dataframe(ds_mnist)\n",
    "print(f'{df_mnist.shape=}')\n",
    "print(f\"Image shape: {df_mnist['image'][0].shape}\")"
   ]
  },
  {
   "attachments": {},
   "cell_type": "markdown",
   "metadata": {},
   "source": [
    "## Fashion MNIST"
   ]
  },
  {
   "cell_type": "code",
   "execution_count": 35,
   "metadata": {},
   "outputs": [
    {
     "name": "stdout",
     "output_type": "stream",
     "text": [
      "df_fmnist.shape=(60000, 2)\n",
      "Image shape: (28, 28, 1)\n"
     ]
    }
   ],
   "source": [
    "ds_fmnist = tfds.load('fashion_mnist', split='train')\n",
    "df_fmnist = tfds.as_dataframe(ds_fmnist)\n",
    "print(f'{df_fmnist.shape=}')\n",
    "print(f\"Image shape: {df_fmnist['image'][0].shape}\")"
   ]
  },
  {
   "attachments": {},
   "cell_type": "markdown",
   "metadata": {},
   "source": [
    "## EMNIST"
   ]
  },
  {
   "cell_type": "code",
   "execution_count": 36,
   "metadata": {},
   "outputs": [
    {
     "name": "stdout",
     "output_type": "stream",
     "text": [
      "df_emnist.shape=(697932, 2)\n",
      "Image shape: (28, 28, 1)\n"
     ]
    }
   ],
   "source": [
    "# Takes about 15 mins\n",
    "ds_emnist = tfds.load('emnist', split='train')\n",
    "df_emnist = tfds.as_dataframe(ds_emnist)\n",
    "print(f'{df_emnist.shape=}')\n",
    "print(f\"Image shape: {df_emnist['image'][0].shape}\")"
   ]
  },
  {
   "attachments": {},
   "cell_type": "markdown",
   "metadata": {},
   "source": [
    "# Explore images"
   ]
  },
  {
   "cell_type": "code",
   "execution_count": 37,
   "metadata": {},
   "outputs": [
    {
     "data": {
      "image/png": "[encoded data removed]",
      "text/plain": [
       "<Figure size 640x480 with 3 Axes>"
      ]
     },
     "metadata": {},
     "output_type": "display_data"
    }
   ],
   "source": [
    "fig, axs = plt.subplots(ncols=3, nrows=1)\n",
    "\n",
    "mnist = df_mnist['image'][100].squeeze()\n",
    "mnist_title = df_mnist['label'][100]\n",
    "\n",
    "fmnist = df_fmnist['image'][100].squeeze()\n",
    "fmnist_title = df_fmnist['label'][100]\n",
    "\n",
    "# The images are inverted horizontally and rotated 90 anti-clockwise\n",
    "emnist = df_emnist['image'][100].squeeze()\n",
    "emnist_title = df_emnist['label'][100]\n",
    "\n",
    "axs[0].set_title(f'MNIST: {mnist_title}')\n",
    "axs[0].axis('off')\n",
    "axs[0].imshow(mnist, cmap='gray')\n",
    "\n",
    "axs[1].set_title(f'Fashion MNIST: {fmnist_title}')\n",
    "axs[1].axis('off')\n",
    "axs[1].imshow(fmnist, cmap='gray')\n",
    "\n",
    "axs[2].set_title(f'EMNIST: {emnist_title}')\n",
    "axs[2].axis('off')\n",
    "axs[2].imshow(emnist, cmap='gray')\n",
    "\n",
    "plt.show();"
   ]
  },
  {
   "attachments": {},
   "cell_type": "markdown",
   "metadata": {},
   "source": [
    "# Remove labels"
   ]
  },
  {
   "cell_type": "code",
   "execution_count": 38,
   "metadata": {},
   "outputs": [
    {
     "data": {
      "text/plain": [
       "dtype('O')"
      ]
     },
     "execution_count": 38,
     "metadata": {},
     "output_type": "execute_result"
    }
   ],
   "source": [
    "df_mnist['image'].dtype"
   ]
  },
  {
   "cell_type": "code",
   "execution_count": 39,
   "metadata": {},
   "outputs": [
    {
     "data": {
      "text/plain": [
       "(60000, 28, 28)"
      ]
     },
     "execution_count": 39,
     "metadata": {},
     "output_type": "execute_result"
    }
   ],
   "source": [
    "dfs = [df_mnist, df_fmnist, df_emnist]\n",
    "arrs = []\n",
    "\n",
    "for i in range(len(dfs)):\n",
    "    arrs.append(\n",
    "        np.array(\n",
    "            dfs[i]['image'].tolist(),\n",
    "            dtype='uint8'\n",
    "        ).squeeze()\n",
    "    )\n",
    "\n",
    "arrs[0].shape"
   ]
  },
  {
   "attachments": {},
   "cell_type": "markdown",
   "metadata": {},
   "source": [
    "# Binarize"
   ]
  },
  {
   "cell_type": "code",
   "execution_count": 40,
   "metadata": {},
   "outputs": [
    {
     "data": {
      "image/png": "[encoded data removed]",
      "text/plain": [
       "<Figure size 640x480 with 2 Axes>"
      ]
     },
     "metadata": {},
     "output_type": "display_data"
    }
   ],
   "source": [
    "fig, axs = plt.subplots(ncols=2, nrows=1)\n",
    "\n",
    "before = arrs[0][0]\n",
    "after = np.where(arrs[0] > 0, 1, 0)[0]\n",
    "\n",
    "axs[0].set_title('Before')\n",
    "axs[0].axis('off')\n",
    "axs[0].imshow(before, cmap='gray')\n",
    "\n",
    "axs[1].set_title('After')\n",
    "axs[1].axis('off')\n",
    "axs[1].imshow(after, cmap='gray')\n",
    "\n",
    "plt.show();"
   ]
  },
  {
   "cell_type": "code",
   "execution_count": 41,
   "metadata": {},
   "outputs": [],
   "source": [
    "for i in range(len(arrs)):\n",
    "    arrs[i] = np.where(arrs[i] > 0, 1, 0)\n",
    "\n",
    "# Pattern matching :) !\n",
    "arr_mnist, arr_fmnist, arr_emnist = arrs"
   ]
  },
  {
   "attachments": {},
   "cell_type": "markdown",
   "metadata": {},
   "source": [
    "# See results"
   ]
  },
  {
   "cell_type": "code",
   "execution_count": 42,
   "metadata": {},
   "outputs": [
    {
     "data": {
      "image/png": "[encoded data removed]",
      "text/plain": [
       "<Figure size 640x480 with 3 Axes>"
      ]
     },
     "metadata": {},
     "output_type": "display_data"
    }
   ],
   "source": [
    "mnist = arr_mnist[100]\n",
    "fmnist = arr_fmnist[100]\n",
    "emnist = arr_emnist[100]\n",
    "\n",
    "fig, axs = plt.subplots(ncols=3, nrows=1)\n",
    "\n",
    "axs[0].set_title('MNIST')\n",
    "axs[0].axis('off')\n",
    "axs[0].imshow(mnist, cmap='gray')\n",
    "\n",
    "axs[1].set_title('Fashion MNIST')\n",
    "axs[1].axis('off')\n",
    "axs[1].imshow(fmnist, cmap='gray')\n",
    "\n",
    "axs[2].set_title('EMNIST')\n",
    "axs[2].axis('off')\n",
    "axs[2].imshow(emnist, cmap='gray')\n",
    "\n",
    "plt.show();"
   ]
  },
  {
   "attachments": {},
   "cell_type": "markdown",
   "metadata": {},
   "source": [
    "# Sample from arrays"
   ]
  },
  {
   "cell_type": "code",
   "execution_count": 43,
   "metadata": {},
   "outputs": [],
   "source": [
    "def print_batch(batch, title='Batch'):\n",
    "    plt.figure(figsize=(15, 20))\n",
    "    plt.title(title)\n",
    "    plt.axis('off')\n",
    "    \n",
    "    if len(batch.shape) > 2:\n",
    "        batch = np.hstack(batch)\n",
    "    \n",
    "    plt.imshow(batch, cmap='gray')\n",
    "    \n",
    "\n",
    "\n",
    "def get_batch_pics(num=10, seed=None):\n",
    "    result = np.zeros((num, *arr_mnist.shape[1:]))\n",
    "\n",
    "    np.random.seed(seed)\n",
    "    arr_idxs = np.random.choice([0, 1, 2], size=num)\n",
    "    pic_idxs = np.random.choice(range(df_mnist.shape[0]), size=num)\n",
    "\n",
    "    for (i, (arr_idx, pic_idx)) in enumerate(zip(arr_idxs, pic_idxs)):\n",
    "        result[i] = arrs[arr_idx][pic_idx]\n",
    "\n",
    "    return result"
   ]
  },
  {
   "cell_type": "code",
   "execution_count": 44,
   "metadata": {},
   "outputs": [
    {
     "data": {
      "image/png": "[encoded data removed]",
      "text/plain": [
       "<Figure size 1500x2000 with 1 Axes>"
      ]
     },
     "metadata": {},
     "output_type": "display_data"
    }
   ],
   "source": [
    "batch = get_batch_pics(seed=42)\n",
    "print_batch(batch)"
   ]
  },
  {
   "attachments": {},
   "cell_type": "markdown",
   "metadata": {},
   "source": [
    "# Dilation"
   ]
  },
  {
   "cell_type": "code",
   "execution_count": 45,
   "metadata": {},
   "outputs": [],
   "source": [
    "def dilate_binary(im, footprint):\n",
    "    # Sadly, Python does not allow for a readable use of higher-order functions\n",
    "    # list(map(lambda tup: (tup[0] // 28, tup[0] % 28), filter(lambda tup: tup[1] == 1, enumerate(batch[1].flatten()))))\n",
    "\n",
    "    if footprint.shape[0] != footprint.shape[1] or footprint[footprint.shape[0] // 2, footprint.shape[1] // 2] != 1:\n",
    "        raise ValueError('Footprint must be a square with 1 in its center!')\n",
    "\n",
    "    im = im.astype(np.uint8)\n",
    "\n",
    "    result = np.zeros_like(im, dtype=np.uint8)\n",
    "\n",
    "    cols = im.shape[1]\n",
    "\n",
    "    one_idx = [(i // cols, i % cols) for (i, val) in enumerate(im.flatten()) if val == 1]\n",
    "\n",
    "    for (i, j) in one_idx:\n",
    "        ii = i - 1\n",
    "        jj = j - 1\n",
    "\n",
    "        i_norm = (ii if ii > 0 else 0)\n",
    "        j_norm = (jj if jj > 0 else 0)\n",
    "        \n",
    "        part = im[i_norm:ii+3, j_norm:jj+3]\n",
    "\n",
    "        offset_i = i_norm - ii\n",
    "        offset_j = j_norm - jj\n",
    "        mask = footprint[offset_i : offset_i + part.shape[0], offset_j : part.shape[1]]\n",
    "\n",
    "        result[i_norm:ii+3, j_norm:jj+3] = part | mask | result[i_norm:ii+3, j_norm:jj+3]\n",
    "\n",
    "    return result"
   ]
  },
  {
   "attachments": {},
   "cell_type": "markdown",
   "metadata": {},
   "source": [
    "## Compare with `scikit-image`"
   ]
  },
  {
   "cell_type": "code",
   "execution_count": 46,
   "metadata": {},
   "outputs": [
    {
     "name": "stdout",
     "output_type": "stream",
     "text": [
      "True\n",
      "True\n",
      "True\n",
      "True\n",
      "True\n",
      "True\n",
      "True\n",
      "True\n",
      "True\n",
      "True\n",
      "True\n"
     ]
    }
   ],
   "source": [
    "footprint = np.array([[1, 1, 1],\n",
    "                      [1, 1, 1],\n",
    "                      [1, 1, 1]], dtype = np.uint8)\n",
    "\n",
    "# Single image (square matrix)\n",
    "for im in batch:\n",
    "    im_scikit = binary_dilation(im, footprint)\n",
    "    im_simo = dilate_binary(im, footprint)\n",
    "    print(np.all(im_scikit == im_simo))\n",
    "\n",
    "# Multiple images (non-square matrix)\n",
    "tmp_batch = np.hstack(batch)\n",
    "im_scikit = binary_dilation(tmp_batch, footprint)\n",
    "im_simo = dilate_binary(tmp_batch, footprint)\n",
    "print(np.all(im_scikit == im_simo))\n",
    "\n",
    "# Save to files to inspect\n",
    "concatted = np.concatenate([tmp_batch, im_scikit, im_simo], axis=1).astype(np.uint8)\n",
    "np.savetxt(\"array.txt\", concatted, fmt='%d', delimiter='')"
   ]
  },
  {
   "attachments": {},
   "cell_type": "markdown",
   "metadata": {},
   "source": [
    "# Erosion"
   ]
  },
  {
   "cell_type": "code",
   "execution_count": 47,
   "metadata": {},
   "outputs": [],
   "source": [
    "def erode_binary(im, footprint):\n",
    "    if footprint.shape[0] != footprint.shape[1] or footprint[footprint.shape[0] // 2, footprint.shape[1] // 2] != 1:\n",
    "        raise ValueError('Footprint must be a square with 1 in its center!')\n",
    "\n",
    "    im = im.astype(np.uint8)\n",
    "\n",
    "    result = np.zeros_like(im, dtype=np.uint8)\n",
    "\n",
    "    cols = im.shape[1]\n",
    "\n",
    "    one_idx = [(i // cols, i % cols) for (i, val) in enumerate(im.flatten()) if val == 1]\n",
    "\n",
    "    for (i, j) in one_idx:\n",
    "        ii = i - 1\n",
    "        jj = j - 1\n",
    "\n",
    "        i_norm = (ii if ii > 0 else 0)\n",
    "        j_norm = (jj if jj > 0 else 0)\n",
    "        \n",
    "        part = im[i_norm:ii+3, j_norm:jj+3]\n",
    "\n",
    "        offset_i = i_norm - ii\n",
    "        offset_j = j_norm - jj\n",
    "        mask = footprint[offset_i : offset_i + part.shape[0], offset_j : part.shape[1]]\n",
    "\n",
    "        if np.all(part == mask):\n",
    "            result[i, j] = 1\n",
    "\n",
    "    return result"
   ]
  },
  {
   "attachments": {},
   "cell_type": "markdown",
   "metadata": {},
   "source": [
    "## Compare with `scikit-image`"
   ]
  },
  {
   "cell_type": "code",
   "execution_count": 48,
   "metadata": {},
   "outputs": [
    {
     "name": "stdout",
     "output_type": "stream",
     "text": [
      "True\n",
      "True\n",
      "True\n",
      "True\n",
      "True\n",
      "True\n",
      "True\n",
      "True\n",
      "True\n",
      "True\n",
      "True\n"
     ]
    }
   ],
   "source": [
    "footprint = np.array([[1, 1, 1],\n",
    "                      [1, 1, 1],\n",
    "                      [1, 1, 1]], dtype = np.uint8)\n",
    "\n",
    "# Single image (square matrix)\n",
    "for im in batch:\n",
    "    im_scikit = binary_erosion(im, footprint)\n",
    "    im_simo = erode_binary(im, footprint)\n",
    "    print(np.all(im_scikit == im_simo))\n",
    "\n",
    "# Multiple images (non-square matrix)\n",
    "tmp_batch = np.hstack(batch)\n",
    "im_scikit = binary_erosion(tmp_batch, footprint)\n",
    "im_simo = erode_binary(tmp_batch, footprint)\n",
    "print(np.all(im_scikit == im_simo))\n",
    "\n",
    "# Save to files to inspect\n",
    "concatted = np.concatenate([tmp_batch, im_scikit, im_simo], axis=1).astype(np.uint8)\n",
    "np.savetxt(\"array.txt\", concatted, fmt='%d', delimiter='')"
   ]
  },
  {
   "attachments": {},
   "cell_type": "markdown",
   "metadata": {},
   "source": [
    "# Geodesic Dilation"
   ]
  },
  {
   "cell_type": "code",
   "execution_count": 49,
   "metadata": {},
   "outputs": [],
   "source": [
    "def geodesic_dilation(mask, marker):\n",
    "    footprint = np.array([[1, 1, 1],\n",
    "                          [1, 1, 1],\n",
    "                          [1, 1, 1]], dtype = np.uint8)\n",
    "\n",
    "    result = dilate_binary(marker, footprint).astype(bool) & mask\n",
    "    return result"
   ]
  },
  {
   "attachments": {},
   "cell_type": "markdown",
   "metadata": {},
   "source": [
    "# Geodesic Erosion"
   ]
  },
  {
   "cell_type": "code",
   "execution_count": 50,
   "metadata": {},
   "outputs": [],
   "source": [
    "def geodesic_erosion(mask, marker):\n",
    "    footprint = np.array([[1, 1, 1],\n",
    "                          [1, 1, 1],\n",
    "                          [1, 1, 1]], dtype = np.uint8)\n",
    "\n",
    "    result = erode_binary(marker, footprint) | mask\n",
    "    return result"
   ]
  },
  {
   "attachments": {},
   "cell_type": "markdown",
   "metadata": {},
   "source": [
    "# Morphological Reconstruction"
   ]
  },
  {
   "cell_type": "code",
   "execution_count": 51,
   "metadata": {},
   "outputs": [],
   "source": [
    "mask = np.array([\n",
    "    [0,0,0,0,0,0,0,0,0,0],\n",
    "    [0,0,0,0,0,0,0,0,0,0],\n",
    "    [0,0,1,0,0,0,0,0,0,0],\n",
    "    [0,0,1,1,0,0,0,0,0,0],\n",
    "    [0,0,0,1,0,0,0,0,0,0],\n",
    "    [0,0,0,1,1,1,0,0,0,0],\n",
    "    [0,0,0,1,0,1,0,0,0,0],\n",
    "    [0,0,0,1,1,1,0,0,0,0],\n",
    "    [0,0,0,0,0,0,0,0,0,0],\n",
    "])\n",
    "marker = np.array([\n",
    "    [0,0,0,0,0,0,0,0,0,0],\n",
    "    [0,0,0,0,0,0,0,0,0,0],\n",
    "    [0,0,1,0,0,0,0,0,0,0],\n",
    "    [0,0,0,0,0,0,0,0,0,0],\n",
    "    [0,0,0,0,0,0,0,0,0,0],\n",
    "    [0,0,0,0,0,0,0,0,0,0],\n",
    "    [0,0,0,0,0,0,0,0,0,0],\n",
    "    [0,0,0,0,0,0,0,0,0,0],\n",
    "    [0,0,0,0,0,0,0,0,0,0],\n",
    "])"
   ]
  },
  {
   "cell_type": "code",
   "execution_count": 52,
   "metadata": {},
   "outputs": [],
   "source": [
    "def morphological_reconstruction_dilation(mask, marker):\n",
    "    step0 = marker.copy()\n",
    "\n",
    "    while True:\n",
    "        step1 = geodesic_dilation(mask, step0)\n",
    "        step2 = geodesic_dilation(mask, step1)\n",
    "\n",
    "        if np.all(step1 == step2):\n",
    "            break\n",
    "\n",
    "        step0 = step2\n",
    "\n",
    "    return step1"
   ]
  },
  {
   "cell_type": "code",
   "execution_count": 53,
   "metadata": {},
   "outputs": [
    {
     "data": {
      "text/plain": [
       "array([[0, 0, 0, 0, 0, 0, 0, 0, 0, 0],\n",
       "       [0, 0, 0, 0, 0, 0, 0, 0, 0, 0],\n",
       "       [0, 0, 1, 0, 0, 0, 0, 0, 0, 0],\n",
       "       [0, 0, 1, 1, 0, 0, 0, 0, 0, 0],\n",
       "       [0, 0, 0, 1, 0, 0, 0, 0, 0, 0],\n",
       "       [0, 0, 0, 1, 1, 1, 0, 0, 0, 0],\n",
       "       [0, 0, 0, 1, 0, 1, 0, 0, 0, 0],\n",
       "       [0, 0, 0, 1, 1, 1, 0, 0, 0, 0],\n",
       "       [0, 0, 0, 0, 0, 0, 0, 0, 0, 0]])"
      ]
     },
     "execution_count": 53,
     "metadata": {},
     "output_type": "execute_result"
    }
   ],
   "source": [
    "morphological_reconstruction_dilation(mask, marker)"
   ]
  },
  {
   "attachments": {},
   "cell_type": "markdown",
   "metadata": {},
   "source": [
    "# Application 1: Remove objects specified by user"
   ]
  },
  {
   "cell_type": "code",
   "execution_count": 54,
   "metadata": {},
   "outputs": [
    {
     "data": {
      "image/png": "[encoded data removed]",
      "text/plain": [
       "<Figure size 1500x2000 with 1 Axes>"
      ]
     },
     "metadata": {},
     "output_type": "display_data"
    }
   ],
   "source": [
    "mask = np.hstack(batch).astype(np.uint8)\n",
    "print_batch(mask, 'Before')\n",
    "np.savetxt(\"start.txt\", mask, fmt='%d', delimiter='')"
   ]
  },
  {
   "cell_type": "code",
   "execution_count": 55,
   "metadata": {},
   "outputs": [],
   "source": [
    "marker = np.zeros_like(mask)\n",
    "marker[23, 37] = 1\n",
    "marker[3, 242] = 1"
   ]
  },
  {
   "cell_type": "code",
   "execution_count": 56,
   "metadata": {},
   "outputs": [
    {
     "data": {
      "image/png": "[encoded data removed]",
      "text/plain": [
       "<Figure size 1500x2000 with 1 Axes>"
      ]
     },
     "metadata": {},
     "output_type": "display_data"
    }
   ],
   "source": [
    "res = morphological_reconstruction_dilation(mask, marker)\n",
    "print_batch(res, 'After')\n",
    "np.savetxt(\"end.txt\", res, fmt='%d', delimiter='')"
   ]
  }
 ],
 "metadata": {
  "kernelspec": {
   "display_name": "venv",
   "language": "python",
   "name": "python3"
  },
  "language_info": {
   "codemirror_mode": {
    "name": "ipython",
    "version": 3
   },
   "file_extension": ".py",
   "mimetype": "text/x-python",
   "name": "python",
   "nbconvert_exporter": "python",
   "pygments_lexer": "ipython3",
   "version": "3.10.6"
  },
  "orig_nbformat": 4,
  "vscode": {
   "interpreter": {
    "hash": "896620c3d6ff88b1e7d2d3d3f1d9d5abf607d6b361e1adf12985f579fd836be7"
   }
  }
 },
 "nbformat": 4,
 "nbformat_minor": 2
}
